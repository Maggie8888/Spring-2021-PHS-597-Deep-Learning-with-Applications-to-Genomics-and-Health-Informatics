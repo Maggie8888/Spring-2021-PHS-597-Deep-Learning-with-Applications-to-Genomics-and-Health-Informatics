{
  "nbformat": 4,
  "nbformat_minor": 0,
  "metadata": {
    "kernelspec": {
      "display_name": "Python 3",
      "language": "python",
      "name": "python3"
    },
    "language_info": {
      "codemirror_mode": {
        "name": "ipython",
        "version": 3
      },
      "file_extension": ".py",
      "mimetype": "text/x-python",
      "name": "python",
      "nbconvert_exporter": "python",
      "pygments_lexer": "ipython3",
      "version": "3.7.6"
    },
    "colab": {
      "name": "HW4.ipynb",
      "provenance": []
    }
  },
  "cells": [
    {
      "cell_type": "code",
      "metadata": {
        "colab": {
          "base_uri": "https://localhost:8080/"
        },
        "id": "NAHqq-HaHlvf",
        "outputId": "fe7971f7-e981-481a-f849-4b6ab74a7e0b"
      },
      "source": [
        "import tensorflow as tf\n",
        "import matplotlib.pyplot as plt\n",
        "import matplotlib.image as mpimg\n",
        "import tensorflow.keras as keras\n",
        "import numpy as np\n",
        "from sklearn.datasets import fetch_openml\n",
        "from scipy.ndimage.interpolation import shift\n",
        "##import data: \n",
        "## mount your google drive: \n",
        "from google.colab import drive\n",
        "drive.mount('/content/drive')\n"
      ],
      "execution_count": 34,
      "outputs": [
        {
          "output_type": "stream",
          "text": [
            "Drive already mounted at /content/drive; to attempt to forcibly remount, call drive.mount(\"/content/drive\", force_remount=True).\n"
          ],
          "name": "stdout"
        }
      ]
    },
    {
      "cell_type": "code",
      "metadata": {
        "id": "ubrh8TyjHlvl"
      },
      "source": [
        "def shift_image(image, dx, dy):\n",
        "    image = image.reshape((28, 28))\n",
        "    shifted_image = shift(image, [dy, dx], cval=0, mode=\"constant\")\n",
        "    return shifted_image.reshape([-1])"
      ],
      "execution_count": 35,
      "outputs": []
    },
    {
      "cell_type": "code",
      "metadata": {
        "id": "rgUQffl_HmgO"
      },
      "source": [
        "# Get the data and target\n",
        "mnist = fetch_openml('mnist_784', version=1)\n",
        "X, y = mnist[\"data\"], mnist[\"target\"]\n"
      ],
      "execution_count": 36,
      "outputs": []
    },
    {
      "cell_type": "code",
      "metadata": {
        "colab": {
          "base_uri": "https://localhost:8080/",
          "height": 398
        },
        "id": "AoelowcH27De",
        "outputId": "ef85d39b-d77e-45af-e5fd-1be8a4f0f352"
      },
      "source": [
        "\n",
        "# Split the train and test set\n",
        "X_train, X_test, y_train, y_test = X[:60000], X[60000:], y[:60000], y[60000:]\n",
        "\n",
        "#X_train, X_test, y_train, y_test = train_images[:60000], test_images[60000:], train_labels[:60000], test_labels[60000:]\n",
        "image = X_train[1000]\n",
        "shifted_image_down = shift_image(image, 0, 1)\n",
        "shifted_image_left = shift_image(image, -1, 0)\n",
        "\n",
        "plt.figure(figsize=(12,3))\n",
        "plt.subplot(131)\n",
        "plt.title(\"original\", fontsize=14)\n",
        "plt.imshow(image.reshape(28, 28), interpolation=\"nearest\", cmap=\"Greys\")\n",
        "\n",
        "plt.subplot(132)\n",
        "plt.title(\"shifted down\", fontsize=14)\n",
        "plt.imshow(shifted_image_down.reshape(28, 28), interpolation=\"nearest\", cmap=\"Greys\")\n",
        "\n",
        "plt.subplot(133)\n",
        "plt.title(\"shifted left\", fontsize=14)\n",
        "plt.imshow(shifted_image_left.reshape(28, 28), interpolation=\"nearest\", cmap=\"Greys\")\n",
        "\n",
        "# Uncomment the follwoing to see the example of shift\n",
        "#plt.show()\n",
        "\n",
        "print(\"Creating Augmented Dataset...\")\n",
        "X_train_augmented = [image for image in X_train]\n",
        "y_train_augmented = [image for image in y_train]\n",
        "\n",
        "for dx, dy in ((1,0), (-1,0), (0,1), (0,-1)):\n",
        "     for image, label in zip(X_train, y_train):\n",
        "             X_train_augmented.append(shift_image(image, dx, dy))\n",
        "             y_train_augmented.append(label)\n",
        "\n",
        "\n",
        "shuffle_idx = np.random.permutation(len(X_train_augmented))\n",
        "X_train_augmented = np.array(X_train_augmented)[shuffle_idx]\n",
        "y_train_augmented = np.array(y_train_augmented)[shuffle_idx]\n",
        "\n",
        "print(\"Creating Augmented Dataset completed\")\n",
        "\n",
        "from sklearn.neighbors import KNeighborsClassifier\n",
        "knn_clf = KNeighborsClassifier()\n",
        "print(\"Training on the existing dataset\")\n",
        "knn_clf.fit(X_train, y_train)\n",
        "y_pred = knn_clf.predict(X_test)\n",
        "\n",
        "print(\"Training on augmented dataset\")\n",
        "knn_clf.fit(X_train_augmented, y_train_augmented)\n",
        "y_pred_after_augmented = knn_clf.predict(X_test)\n",
        "\n",
        "from sklearn.metrics import accuracy_score\n",
        "print(\"Accuracy score after training on existing dataset\", accuracy_score(y_test, y_pred))\n",
        "print(\"Accuracy score after training on augmented dataset\", accuracy_score(y_test, y_pred_after_augmented ))\n",
        "\n",
        "\n",
        "from sklearn.ensemble import RandomForestClassifier\n",
        "print(\"Training on the existing dataset\")\n",
        "rf_clf = RandomForestClassifier(random_state=42)\n",
        "rf_clf.fit(X_train, y_train)\n",
        "y_pred = rf_clf.predict(X_test)\n",
        "\n",
        "\n",
        "print(\"Training on augmented dataset\")\n",
        "rf_clf_for_augmented = RandomForestClassifier(random_state=42)\n",
        "rf_clf_for_augmented.fit(X_train_augmented, y_train_augmented)\n",
        "y_pred_after_augmented = rf_clf_for_augmented.predict(X_test)\n",
        "\n",
        "from sklearn.metrics import accuracy_score\n",
        "print(\"Accuracy score after training on existing dataset\", accuracy_score(y_test, y_pred))\n",
        "print(\"Accuracy score after training on augmented dataset\", accuracy_score(y_test, y_pred_after_augmented ))"
      ],
      "execution_count": 37,
      "outputs": [
        {
          "output_type": "stream",
          "text": [
            "Creating Augmented Dataset...\n",
            "Creating Augmented Dataset completed\n",
            "Training on the existing dataset\n",
            "Training on augmented dataset\n",
            "Accuracy score after training on existing dataset 0.9688\n",
            "Accuracy score after training on augmented dataset 0.9754\n",
            "Training on the existing dataset\n",
            "Training on augmented dataset\n",
            "Accuracy score after training on existing dataset 0.9705\n",
            "Accuracy score after training on augmented dataset 0.98\n"
          ],
          "name": "stdout"
        },
        {
          "output_type": "display_data",
          "data": {
            "image/png": "[encoded data removed]",
            "text/plain": [
              "<Figure size 864x216 with 3 Axes>"
            ]
          },
          "metadata": {
            "tags": [],
            "needs_background": "light"
          }
        }
      ]
    },
    {
      "cell_type": "code",
      "metadata": {
        "id": "HmmgtW1dDOlS"
      },
      "source": [
        "from keras import models\n",
        "from keras import layers\n",
        "network = models.Sequential()\n",
        "network.add(layers.Dense(512, activation='relu', input_shape=(28 * 28,)))\n",
        "network.add(layers.Dense(10, activation='softmax'))"
      ],
      "execution_count": 38,
      "outputs": []
    },
    {
      "cell_type": "code",
      "metadata": {
        "id": "dIyTBQPpDbmJ"
      },
      "source": [
        "network.compile(optimizer='rmsprop',\n",
        "loss='categorical_crossentropy',\n",
        "metrics=['accuracy'])"
      ],
      "execution_count": 39,
      "outputs": []
    },
    {
      "cell_type": "code",
      "metadata": {
        "id": "RjwMI_FjDe3V"
      },
      "source": [
        "train_images = X_train.reshape((60000, 28 * 28))\n",
        "train_images = train_images.astype('float32') / 255\n",
        "test_images = X_test.reshape((10000, 28 * 28))\n",
        "test_images = test_images.astype('float32') / 255"
      ],
      "execution_count": 40,
      "outputs": []
    },
    {
      "cell_type": "code",
      "metadata": {
        "colab": {
          "base_uri": "https://localhost:8080/"
        },
        "id": "qJTteA3_D5ZS",
        "outputId": "bd413209-489a-4c5c-de27-f9ee4f971909"
      },
      "source": [
        "from keras.utils import to_categorical\n",
        "train_labels = to_categorical(y_train)\n",
        "test_labels = to_categorical(y_test)\n",
        "train_labels.shape"
      ],
      "execution_count": 41,
      "outputs": [
        {
          "output_type": "execute_result",
          "data": {
            "text/plain": [
              "(60000, 10)"
            ]
          },
          "metadata": {
            "tags": []
          },
          "execution_count": 41
        }
      ]
    },
    {
      "cell_type": "code",
      "metadata": {
        "colab": {
          "base_uri": "https://localhost:8080/"
        },
        "id": "qPFnJWAKD_Nz",
        "outputId": "fddbd97d-1bce-498d-8ac4-3f2c83e16e34"
      },
      "source": [
        "network.fit(train_images, train_labels, epochs=5, batch_size=128)"
      ],
      "execution_count": 42,
      "outputs": [
        {
          "output_type": "stream",
          "text": [
            "Epoch 1/5\n",
            "469/469 [==============================] - 5s 9ms/step - loss: 0.4311 - accuracy: 0.8747\n",
            "Epoch 2/5\n",
            "469/469 [==============================] - 4s 9ms/step - loss: 0.1094 - accuracy: 0.9686\n",
            "Epoch 3/5\n",
            "469/469 [==============================] - 4s 9ms/step - loss: 0.0703 - accuracy: 0.9798\n",
            "Epoch 4/5\n",
            "469/469 [==============================] - 4s 9ms/step - loss: 0.0485 - accuracy: 0.9855\n",
            "Epoch 5/5\n",
            "469/469 [==============================] - 4s 9ms/step - loss: 0.0370 - accuracy: 0.9888\n"
          ],
          "name": "stdout"
        },
        {
          "output_type": "execute_result",
          "data": {
            "text/plain": [
              "<tensorflow.python.keras.callbacks.History at 0x7f372f7a20d0>"
            ]
          },
          "metadata": {
            "tags": []
          },
          "execution_count": 42
        }
      ]
    },
    {
      "cell_type": "code",
      "metadata": {
        "colab": {
          "base_uri": "https://localhost:8080/"
        },
        "id": "V72weImcEOW5",
        "outputId": "13d41e5b-2150-4fc2-ed82-235ba6a8cc6e"
      },
      "source": [
        "test_loss, test_acc = network.evaluate(test_images, test_labels)\n",
        "print(test_acc)"
      ],
      "execution_count": 43,
      "outputs": [
        {
          "output_type": "stream",
          "text": [
            "313/313 [==============================] - 1s 2ms/step - loss: 0.0711 - accuracy: 0.9786\n",
            "0.978600025177002\n"
          ],
          "name": "stdout"
        }
      ]
    },
    {
      "cell_type": "code",
      "metadata": {
        "id": "nBgapOX5EzE-"
      },
      "source": [
        "train_images = X_train_augmented.reshape((300000, 28 * 28))\n",
        "train_images = train_images.astype('float32') / 255"
      ],
      "execution_count": 44,
      "outputs": []
    },
    {
      "cell_type": "code",
      "metadata": {
        "colab": {
          "base_uri": "https://localhost:8080/"
        },
        "id": "FZc9Ke_2E-Gb",
        "outputId": "e1e5b5c2-4dd4-444b-83da-41fec018da8c"
      },
      "source": [
        "train_labels = to_categorical(y_train_augmented)\n",
        "train_labels.shape"
      ],
      "execution_count": 45,
      "outputs": [
        {
          "output_type": "execute_result",
          "data": {
            "text/plain": [
              "(300000, 10)"
            ]
          },
          "metadata": {
            "tags": []
          },
          "execution_count": 45
        }
      ]
    },
    {
      "cell_type": "code",
      "metadata": {
        "colab": {
          "base_uri": "https://localhost:8080/"
        },
        "id": "gHOr31z_EpRL",
        "outputId": "7a0bc5fc-9bc7-4df1-e3da-8e4290c49efb"
      },
      "source": [
        "network.fit(train_images, train_labels, epochs=5, batch_size=128)"
      ],
      "execution_count": 46,
      "outputs": [
        {
          "output_type": "stream",
          "text": [
            "Epoch 1/5\n",
            "2344/2344 [==============================] - 21s 9ms/step - loss: 0.0625 - accuracy: 0.9808\n",
            "Epoch 2/5\n",
            "2344/2344 [==============================] - 21s 9ms/step - loss: 0.0392 - accuracy: 0.9883\n",
            "Epoch 3/5\n",
            "2344/2344 [==============================] - 21s 9ms/step - loss: 0.0290 - accuracy: 0.9911\n",
            "Epoch 4/5\n",
            "2344/2344 [==============================] - 21s 9ms/step - loss: 0.0228 - accuracy: 0.9931\n",
            "Epoch 5/5\n",
            "2344/2344 [==============================] - 21s 9ms/step - loss: 0.0188 - accuracy: 0.9944\n"
          ],
          "name": "stdout"
        },
        {
          "output_type": "execute_result",
          "data": {
            "text/plain": [
              "<tensorflow.python.keras.callbacks.History at 0x7f372f1cc2d0>"
            ]
          },
          "metadata": {
            "tags": []
          },
          "execution_count": 46
        }
      ]
    },
    {
      "cell_type": "code",
      "metadata": {
        "colab": {
          "base_uri": "https://localhost:8080/"
        },
        "id": "x4_ox-1uGO0-",
        "outputId": "823f2986-0a99-411f-8454-2fdf64c5ed17"
      },
      "source": [
        "test_loss, test_acc = network.evaluate(test_images, test_labels)\n",
        "print(test_acc)"
      ],
      "execution_count": 47,
      "outputs": [
        {
          "output_type": "stream",
          "text": [
            "313/313 [==============================] - 1s 2ms/step - loss: 0.0539 - accuracy: 0.9849\n",
            "0.9848999977111816\n"
          ],
          "name": "stdout"
        }
      ]
    }
  ]
}